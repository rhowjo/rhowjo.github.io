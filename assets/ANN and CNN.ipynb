{
 "cells": [
  {
   "cell_type": "code",
   "execution_count": 76,
   "id": "5e1411df",
   "metadata": {},
   "outputs": [],
   "source": [
    "import tensorflow as tf\n",
    "from tensorflow.keras import datasets, layers, models\n",
    "import numpy as np\n",
    "import matplotlib.pyplot as plt\n",
    "from sklearn.model_selection import train_test_split"
   ]
  },
  {
   "cell_type": "code",
   "execution_count": 133,
   "id": "e3daa36a",
   "metadata": {},
   "outputs": [],
   "source": [
    "(x_train, y_train), (x_test, y_test) = datasets.cifar10.load_data()"
   ]
  },
  {
   "cell_type": "code",
   "execution_count": 134,
   "id": "8744053b",
   "metadata": {},
   "outputs": [],
   "source": [
    "#normalise values\n",
    "x_train = x_train / 255\n",
    "x_test = x_test / 255"
   ]
  },
  {
   "cell_type": "code",
   "execution_count": 135,
   "id": "0de14960",
   "metadata": {},
   "outputs": [],
   "source": [
    "x_train, x_val, y_train, y_val = train_test_split(x_train, y_train, test_size=0.2, random_state=42)"
   ]
  },
  {
   "cell_type": "code",
   "execution_count": 136,
   "id": "b9e89739",
   "metadata": {},
   "outputs": [
    {
     "data": {
      "text/plain": [
       "(40000, 32, 32, 3)"
      ]
     },
     "execution_count": 136,
     "metadata": {},
     "output_type": "execute_result"
    }
   ],
   "source": [
    "x_train.shape"
   ]
  },
  {
   "cell_type": "code",
   "execution_count": 137,
   "id": "fc00c085",
   "metadata": {
    "scrolled": true
   },
   "outputs": [
    {
     "data": {
      "text/plain": [
       "(10000, 32, 32, 3)"
      ]
     },
     "execution_count": 137,
     "metadata": {},
     "output_type": "execute_result"
    }
   ],
   "source": [
    "x_test.shape"
   ]
  },
  {
   "cell_type": "code",
   "execution_count": 138,
   "id": "27bdfee2",
   "metadata": {},
   "outputs": [
    {
     "data": {
      "text/plain": [
       "(10000, 32, 32, 3)"
      ]
     },
     "execution_count": 138,
     "metadata": {},
     "output_type": "execute_result"
    }
   ],
   "source": [
    "x_val.shape"
   ]
  },
  {
   "cell_type": "code",
   "execution_count": 8,
   "id": "1a8ff876",
   "metadata": {
    "scrolled": true
   },
   "outputs": [
    {
     "name": "stdout",
     "output_type": "stream",
     "text": [
      "Epoch 1/10\n",
      "1250/1250 [==============================] - 29s 23ms/step - loss: 1.8396 - accuracy: 0.3433 - val_loss: 1.6962 - val_accuracy: 0.4044\n",
      "Epoch 2/10\n",
      "1250/1250 [==============================] - 29s 23ms/step - loss: 1.6527 - accuracy: 0.4182 - val_loss: 1.6081 - val_accuracy: 0.4363\n",
      "Epoch 3/10\n",
      "1250/1250 [==============================] - 28s 23ms/step - loss: 1.5727 - accuracy: 0.4466 - val_loss: 1.5856 - val_accuracy: 0.4334\n",
      "Epoch 4/10\n",
      "1250/1250 [==============================] - 28s 23ms/step - loss: 1.5133 - accuracy: 0.4672 - val_loss: 1.5334 - val_accuracy: 0.4568\n",
      "Epoch 5/10\n",
      "1250/1250 [==============================] - 28s 23ms/step - loss: 1.4656 - accuracy: 0.4867 - val_loss: 1.5057 - val_accuracy: 0.4671\n",
      "Epoch 6/10\n",
      "1250/1250 [==============================] - 29s 23ms/step - loss: 1.4251 - accuracy: 0.4989 - val_loss: 1.4678 - val_accuracy: 0.4791\n",
      "Epoch 7/10\n",
      "1250/1250 [==============================] - 29s 23ms/step - loss: 1.3846 - accuracy: 0.5145 - val_loss: 1.4289 - val_accuracy: 0.4971\n",
      "Epoch 8/10\n",
      "1250/1250 [==============================] - 28s 23ms/step - loss: 1.3502 - accuracy: 0.5275 - val_loss: 1.5118 - val_accuracy: 0.4638\n",
      "Epoch 9/10\n",
      "1250/1250 [==============================] - 28s 23ms/step - loss: 1.3171 - accuracy: 0.5400 - val_loss: 1.4150 - val_accuracy: 0.4956\n",
      "Epoch 10/10\n",
      "1250/1250 [==============================] - 29s 23ms/step - loss: 1.2858 - accuracy: 0.5495 - val_loss: 1.4340 - val_accuracy: 0.4945\n"
     ]
    }
   ],
   "source": [
    "#ANN\n",
    "ANN = models.Sequential([\n",
    "        layers.Flatten(input_shape = (32,32,3)),\n",
    "        layers.Dense(3000, activation = \"relu\"),\n",
    "        layers.Dense(1000, activation = \"relu\"),\n",
    "        layers.Dense(10, activation = \"sigmoid\")\n",
    "    ])\n",
    "\n",
    "#Using sparse as multi categorical and there can only be one value as a result.\n",
    "ANN.compile(optimizer = \"SGD\",\n",
    "               loss = \"sparse_categorical_crossentropy\",\n",
    "               metrics = [\"accuracy\"])\n",
    "\n",
    "ANNt = ANN.fit(x_train, y_train, epochs = 10, \n",
    "               validation_data = (x_val, y_val))"
   ]
  },
  {
   "cell_type": "code",
   "execution_count": 9,
   "id": "84bd7961",
   "metadata": {},
   "outputs": [
    {
     "name": "stdout",
     "output_type": "stream",
     "text": [
      "313/313 [==============================] - 2s 5ms/step - loss: 1.4127 - accuracy: 0.5015\n"
     ]
    }
   ],
   "source": [
    "ANNe = ANN.evaluate(x_test, y_test)"
   ]
  },
  {
   "cell_type": "code",
   "execution_count": 10,
   "id": "b6e46906",
   "metadata": {
    "scrolled": true
   },
   "outputs": [
    {
     "name": "stdout",
     "output_type": "stream",
     "text": [
      "313/313 [==============================] - 2s 5ms/step\n",
      "              precision    recall  f1-score   support\n",
      "\n",
      "           0       0.60      0.56      0.58      1000\n",
      "           1       0.61      0.64      0.63      1000\n",
      "           2       0.43      0.34      0.38      1000\n",
      "           3       0.32      0.46      0.37      1000\n",
      "           4       0.56      0.30      0.39      1000\n",
      "           5       0.33      0.53      0.41      1000\n",
      "           6       0.62      0.45      0.52      1000\n",
      "           7       0.63      0.53      0.57      1000\n",
      "           8       0.68      0.56      0.62      1000\n",
      "           9       0.50      0.65      0.57      1000\n",
      "\n",
      "    accuracy                           0.50     10000\n",
      "   macro avg       0.53      0.50      0.50     10000\n",
      "weighted avg       0.53      0.50      0.50     10000\n",
      "\n"
     ]
    }
   ],
   "source": [
    "from sklearn.metrics import confusion_matrix, classification_report\n",
    "import numpy as np\n",
    "y_pred = ANN.predict(x_test)\n",
    "y_pred_classes = [np.argmax(element) for element in y_pred]\n",
    "\n",
    "print(classification_report(y_test,y_pred_classes))"
   ]
  },
  {
   "cell_type": "code",
   "execution_count": 11,
   "id": "b769cac1",
   "metadata": {
    "scrolled": false
   },
   "outputs": [
    {
     "data": {
      "image/png": "[encoded data removed]",
      "text/plain": [
       "<Figure size 720x360 with 2 Axes>"
      ]
     },
     "metadata": {
      "needs_background": "light"
     },
     "output_type": "display_data"
    }
   ],
   "source": [
    "#plotting training and validation accuracy\n",
    "plt.figure(figsize=(10, 5))\n",
    "plt.subplot(1, 2, 1)\n",
    "plt.plot(ANNt.history['accuracy'], label='Training Accuracy')\n",
    "plt.plot(ANNt.history['val_accuracy'], label='Validation Accuracy')\n",
    "plt.legend(loc='lower right')\n",
    "plt.title('Training and Validation Accuracy')\n",
    "\n",
    "plt.subplot(1, 2, 2)\n",
    "plt.plot(ANNt.history['loss'], label='Training Loss')\n",
    "plt.plot(ANNt.history['val_loss'], label='Validation Loss')\n",
    "plt.legend(loc='upper right')\n",
    "plt.title('Training and Validation Loss')\n",
    "plt.show()"
   ]
  },
  {
   "cell_type": "code",
   "execution_count": 202,
   "id": "a7e06a2a",
   "metadata": {},
   "outputs": [
    {
     "name": "stdout",
     "output_type": "stream",
     "text": [
      "Model: \"sequential\"\n",
      "_________________________________________________________________\n",
      " Layer (type)                Output Shape              Param #   \n",
      "=================================================================\n",
      " flatten (Flatten)           (None, 3072)              0         \n",
      "                                                                 \n",
      " dense (Dense)               (None, 3000)              9219000   \n",
      "                                                                 \n",
      " dense_1 (Dense)             (None, 1000)              3001000   \n",
      "                                                                 \n",
      " dense_2 (Dense)             (None, 10)                10010     \n",
      "                                                                 \n",
      "=================================================================\n",
      "Total params: 12230010 (46.65 MB)\n",
      "Trainable params: 12230010 (46.65 MB)\n",
      "Non-trainable params: 0 (0.00 Byte)\n",
      "_________________________________________________________________\n"
     ]
    }
   ],
   "source": [
    "ANN.summary()"
   ]
  },
  {
   "cell_type": "code",
   "execution_count": 12,
   "id": "9d07171f",
   "metadata": {},
   "outputs": [],
   "source": [
    "#CNN - 1 Convulational Layer\n",
    "CNN = models.Sequential([\n",
    "        layers.Conv2D(filters = 64, kernel_size = (3,3), activation = \"relu\", input_shape = (32,32,3)),\n",
    "        layers.MaxPooling2D((2,2)),\n",
    "        layers.Flatten(),\n",
    "        layers.Dense(64, activation = \"relu\"),\n",
    "        layers.Dense(10, activation = \"softmax\") #softmax normalises\n",
    "    ])"
   ]
  },
  {
   "cell_type": "code",
   "execution_count": 13,
   "id": "a43c918b",
   "metadata": {},
   "outputs": [],
   "source": [
    "CNN.compile(optimizer = \"adam\",\n",
    "            loss = \"sparse_categorical_crossentropy\",\n",
    "            metrics = [\"accuracy\"])"
   ]
  },
  {
   "cell_type": "code",
   "execution_count": 14,
   "id": "9993bf52",
   "metadata": {
    "scrolled": true
   },
   "outputs": [
    {
     "name": "stdout",
     "output_type": "stream",
     "text": [
      "Epoch 1/10\n",
      "1250/1250 [==============================] - 16s 12ms/step - loss: 1.5473 - accuracy: 0.4466 - val_loss: 1.3598 - val_accuracy: 0.5232\n",
      "Epoch 2/10\n",
      "1250/1250 [==============================] - 15s 12ms/step - loss: 1.2434 - accuracy: 0.5612 - val_loss: 1.2650 - val_accuracy: 0.5579\n",
      "Epoch 3/10\n",
      "1250/1250 [==============================] - 15s 12ms/step - loss: 1.1248 - accuracy: 0.6068 - val_loss: 1.1448 - val_accuracy: 0.6005\n",
      "Epoch 4/10\n",
      "1250/1250 [==============================] - 15s 12ms/step - loss: 1.0399 - accuracy: 0.6377 - val_loss: 1.1010 - val_accuracy: 0.6261\n",
      "Epoch 5/10\n",
      "1250/1250 [==============================] - 15s 12ms/step - loss: 0.9770 - accuracy: 0.6592 - val_loss: 1.1246 - val_accuracy: 0.6051\n",
      "Epoch 6/10\n",
      "1250/1250 [==============================] - 15s 12ms/step - loss: 0.9215 - accuracy: 0.6819 - val_loss: 1.1375 - val_accuracy: 0.6215\n",
      "Epoch 7/10\n",
      "1250/1250 [==============================] - 15s 12ms/step - loss: 0.8805 - accuracy: 0.6928 - val_loss: 1.0350 - val_accuracy: 0.6445\n",
      "Epoch 8/10\n",
      "1250/1250 [==============================] - 15s 12ms/step - loss: 0.8304 - accuracy: 0.7122 - val_loss: 1.0493 - val_accuracy: 0.6426\n",
      "Epoch 9/10\n",
      "1250/1250 [==============================] - 15s 12ms/step - loss: 0.7898 - accuracy: 0.7263 - val_loss: 1.0970 - val_accuracy: 0.6314\n",
      "Epoch 10/10\n",
      "1250/1250 [==============================] - 15s 12ms/step - loss: 0.7530 - accuracy: 0.7387 - val_loss: 1.0791 - val_accuracy: 0.6427\n"
     ]
    }
   ],
   "source": [
    "CNNto = CNN.fit(x_train, y_train, epochs = 10, \n",
    "               validation_data = (x_val, y_val))"
   ]
  },
  {
   "cell_type": "code",
   "execution_count": 15,
   "id": "9dbed215",
   "metadata": {
    "scrolled": true
   },
   "outputs": [
    {
     "name": "stdout",
     "output_type": "stream",
     "text": [
      "313/313 [==============================] - 1s 3ms/step - loss: 1.0908 - accuracy: 0.6385\n"
     ]
    },
    {
     "data": {
      "text/plain": [
       "[1.0908068418502808, 0.6384999752044678]"
      ]
     },
     "execution_count": 15,
     "metadata": {},
     "output_type": "execute_result"
    }
   ],
   "source": [
    "CNN.evaluate(x_test, y_test)"
   ]
  },
  {
   "cell_type": "code",
   "execution_count": 16,
   "id": "edb588de",
   "metadata": {
    "scrolled": true
   },
   "outputs": [
    {
     "data": {
      "image/png": "[encoded data removed]",
      "text/plain": [
       "<Figure size 720x360 with 2 Axes>"
      ]
     },
     "metadata": {
      "needs_background": "light"
     },
     "output_type": "display_data"
    }
   ],
   "source": [
    "#plotting training and validation accuracy\n",
    "plt.figure(figsize=(10, 5))\n",
    "plt.subplot(1, 2, 1)\n",
    "plt.plot(CNNto.history['accuracy'], label='Training Accuracy')\n",
    "plt.plot(CNNto.history['val_accuracy'], label='Validation Accuracy')\n",
    "plt.legend(loc='lower right')\n",
    "plt.title('Training and Validation Accuracy')\n",
    "\n",
    "plt.subplot(1, 2, 2)\n",
    "plt.plot(CNNto.history['loss'], label='Training Loss')\n",
    "plt.plot(CNNto.history['val_loss'], label='Validation Loss')\n",
    "plt.legend(loc='upper right')\n",
    "plt.title('Training and Validation Loss')\n",
    "plt.show()"
   ]
  },
  {
   "cell_type": "code",
   "execution_count": 201,
   "id": "7faf2912",
   "metadata": {},
   "outputs": [
    {
     "name": "stdout",
     "output_type": "stream",
     "text": [
      "Model: \"sequential_1\"\n",
      "_________________________________________________________________\n",
      " Layer (type)                Output Shape              Param #   \n",
      "=================================================================\n",
      " conv2d (Conv2D)             (None, 30, 30, 64)        1792      \n",
      "                                                                 \n",
      " max_pooling2d (MaxPooling2  (None, 15, 15, 64)        0         \n",
      " D)                                                              \n",
      "                                                                 \n",
      " flatten_1 (Flatten)         (None, 14400)             0         \n",
      "                                                                 \n",
      " dense_3 (Dense)             (None, 64)                921664    \n",
      "                                                                 \n",
      " dense_4 (Dense)             (None, 10)                650       \n",
      "                                                                 \n",
      "=================================================================\n",
      "Total params: 924106 (3.53 MB)\n",
      "Trainable params: 924106 (3.53 MB)\n",
      "Non-trainable params: 0 (0.00 Byte)\n",
      "_________________________________________________________________\n"
     ]
    }
   ],
   "source": [
    "CNN.summary()"
   ]
  },
  {
   "cell_type": "code",
   "execution_count": 17,
   "id": "b58d3b5f",
   "metadata": {},
   "outputs": [],
   "source": [
    "#CNN - 3 Convulational Layers\n",
    "CNNt = models.Sequential([\n",
    "        layers.Conv2D(filters = 64, kernel_size = (3,3), activation = \"relu\", input_shape = (32,32,3)),\n",
    "        layers.MaxPooling2D((2,2)),\n",
    "        layers.Conv2D(filters = 128, kernel_size = (3,3), activation = \"relu\", input_shape = (32,32,3)),\n",
    "        layers.MaxPooling2D((2,2)),\n",
    "        layers.Conv2D(filters = 256, kernel_size = (3,3), activation = \"relu\", input_shape = (32,32,3)),\n",
    "        layers.MaxPooling2D((2,2)),\n",
    "        layers.Flatten(),\n",
    "        layers.Dense(64, activation = \"relu\"),\n",
    "        layers.Dense(10, activation = \"softmax\") #softmax normalises\n",
    "    ])"
   ]
  },
  {
   "cell_type": "code",
   "execution_count": 18,
   "id": "bac839d7",
   "metadata": {},
   "outputs": [],
   "source": [
    "CNNt.compile(optimizer = \"adam\",\n",
    "            loss = \"sparse_categorical_crossentropy\",\n",
    "            metrics = [\"accuracy\"])"
   ]
  },
  {
   "cell_type": "code",
   "execution_count": 19,
   "id": "8035f2fd",
   "metadata": {
    "scrolled": true
   },
   "outputs": [
    {
     "name": "stdout",
     "output_type": "stream",
     "text": [
      "Epoch 1/10\n",
      "1250/1250 [==============================] - 24s 19ms/step - loss: 1.5520 - accuracy: 0.4316 - val_loss: 1.2701 - val_accuracy: 0.5464\n",
      "Epoch 2/10\n",
      "1250/1250 [==============================] - 24s 19ms/step - loss: 1.1300 - accuracy: 0.6037 - val_loss: 1.0215 - val_accuracy: 0.6395\n",
      "Epoch 3/10\n",
      "1250/1250 [==============================] - 24s 19ms/step - loss: 0.9479 - accuracy: 0.6680 - val_loss: 0.9531 - val_accuracy: 0.6756\n",
      "Epoch 4/10\n",
      "1250/1250 [==============================] - 24s 19ms/step - loss: 0.8245 - accuracy: 0.7114 - val_loss: 0.9357 - val_accuracy: 0.6742\n",
      "Epoch 5/10\n",
      "1250/1250 [==============================] - 24s 19ms/step - loss: 0.7176 - accuracy: 0.7505 - val_loss: 0.8531 - val_accuracy: 0.7105\n",
      "Epoch 6/10\n",
      "1250/1250 [==============================] - 24s 19ms/step - loss: 0.6265 - accuracy: 0.7814 - val_loss: 0.8423 - val_accuracy: 0.7201\n",
      "Epoch 7/10\n",
      "1250/1250 [==============================] - 24s 19ms/step - loss: 0.5507 - accuracy: 0.8080 - val_loss: 0.8580 - val_accuracy: 0.7255\n",
      "Epoch 8/10\n",
      "1250/1250 [==============================] - 24s 19ms/step - loss: 0.4777 - accuracy: 0.8325 - val_loss: 0.9460 - val_accuracy: 0.7044\n",
      "Epoch 9/10\n",
      "1250/1250 [==============================] - 23s 19ms/step - loss: 0.4157 - accuracy: 0.8533 - val_loss: 1.0165 - val_accuracy: 0.6972\n",
      "Epoch 10/10\n",
      "1250/1250 [==============================] - 23s 19ms/step - loss: 0.3556 - accuracy: 0.8763 - val_loss: 0.9777 - val_accuracy: 0.7166\n"
     ]
    }
   ],
   "source": [
    "CNNtP = CNNt.fit(x_train, y_train, epochs = 10,\n",
    "                 validation_data = (x_val, y_val))"
   ]
  },
  {
   "cell_type": "code",
   "execution_count": 20,
   "id": "5af39600",
   "metadata": {},
   "outputs": [
    {
     "name": "stdout",
     "output_type": "stream",
     "text": [
      "313/313 [==============================] - 2s 5ms/step - loss: 0.9970 - accuracy: 0.7121\n"
     ]
    },
    {
     "data": {
      "text/plain": [
       "[0.9969578981399536, 0.7121000289916992]"
      ]
     },
     "execution_count": 20,
     "metadata": {},
     "output_type": "execute_result"
    }
   ],
   "source": [
    "CNNt.evaluate(x_test, y_test)"
   ]
  },
  {
   "cell_type": "code",
   "execution_count": 21,
   "id": "4faa0127",
   "metadata": {
    "scrolled": true
   },
   "outputs": [
    {
     "data": {
      "image/png": "[encoded data removed]",
      "text/plain": [
       "<Figure size 720x360 with 2 Axes>"
      ]
     },
     "metadata": {
      "needs_background": "light"
     },
     "output_type": "display_data"
    }
   ],
   "source": [
    "#plotting training and validation accuracy\n",
    "plt.figure(figsize=(10, 5))\n",
    "plt.subplot(1, 2, 1)\n",
    "plt.plot(CNNtP.history['accuracy'], label='Training Accuracy')\n",
    "plt.plot(CNNtP.history['val_accuracy'], label='Validation Accuracy')\n",
    "plt.legend(loc='lower right')\n",
    "plt.title('Training and Validation Accuracy')\n",
    "\n",
    "plt.subplot(1, 2, 2)\n",
    "plt.plot(CNNtP.history['loss'], label='Training Loss')\n",
    "plt.plot(CNNtP.history['val_loss'], label='Validation Loss')\n",
    "plt.legend(loc='upper right')\n",
    "plt.title('Training and Validation Loss')\n",
    "plt.show()"
   ]
  },
  {
   "cell_type": "code",
   "execution_count": 200,
   "id": "048cc71d",
   "metadata": {},
   "outputs": [
    {
     "name": "stdout",
     "output_type": "stream",
     "text": [
      "Model: \"sequential_2\"\n",
      "_________________________________________________________________\n",
      " Layer (type)                Output Shape              Param #   \n",
      "=================================================================\n",
      " conv2d_1 (Conv2D)           (None, 30, 30, 64)        1792      \n",
      "                                                                 \n",
      " max_pooling2d_1 (MaxPoolin  (None, 15, 15, 64)        0         \n",
      " g2D)                                                            \n",
      "                                                                 \n",
      " conv2d_2 (Conv2D)           (None, 13, 13, 128)       73856     \n",
      "                                                                 \n",
      " max_pooling2d_2 (MaxPoolin  (None, 6, 6, 128)         0         \n",
      " g2D)                                                            \n",
      "                                                                 \n",
      " conv2d_3 (Conv2D)           (None, 4, 4, 256)         295168    \n",
      "                                                                 \n",
      " max_pooling2d_3 (MaxPoolin  (None, 2, 2, 256)         0         \n",
      " g2D)                                                            \n",
      "                                                                 \n",
      " flatten_2 (Flatten)         (None, 1024)              0         \n",
      "                                                                 \n",
      " dense_5 (Dense)             (None, 64)                65600     \n",
      "                                                                 \n",
      " dense_6 (Dense)             (None, 10)                650       \n",
      "                                                                 \n",
      "=================================================================\n",
      "Total params: 437066 (1.67 MB)\n",
      "Trainable params: 437066 (1.67 MB)\n",
      "Non-trainable params: 0 (0.00 Byte)\n",
      "_________________________________________________________________\n"
     ]
    }
   ],
   "source": [
    "CNNt.summary()"
   ]
  },
  {
   "cell_type": "code",
   "execution_count": 142,
   "id": "0f23f060",
   "metadata": {},
   "outputs": [],
   "source": [
    "#CNN - 3 Convulational Layers w/ dropout\n",
    "CNNd = models.Sequential([\n",
    "        layers.Conv2D(filters = 32, kernel_size = (3,3), activation = \"relu\", kernel_initializer= \"he_uniform\", padding= \"same\", input_shape = (32,32,3)),\n",
    "        layers.Conv2D(filters = 32, kernel_size = (3,3), activation = \"relu\", kernel_initializer= \"he_uniform\", padding= \"same\", input_shape = (32,32,3)),    \n",
    "        layers.MaxPooling2D((2,2)),\n",
    "        layers.Dropout(0.2),\n",
    "        layers.Conv2D(filters = 64, kernel_size = (3,3), activation = \"relu\", kernel_initializer= \"he_uniform\", padding= \"same\", input_shape = (32,32,3)),\n",
    "        layers.Conv2D(filters = 64, kernel_size = (3,3), activation = \"relu\", kernel_initializer= \"he_uniform\", padding= \"same\", input_shape = (32,32,3)),    \n",
    "        layers.MaxPooling2D((2,2)),\n",
    "        layers.Dropout(0.3),\n",
    "        layers.Conv2D(filters = 128, kernel_size = (3,3), activation = \"relu\", kernel_initializer= \"he_uniform\", padding= \"same\", input_shape = (32,32,3)),    \n",
    "        layers.Conv2D(filters = 128, kernel_size = (3,3), activation = \"relu\", kernel_initializer= \"he_uniform\", padding= \"same\", input_shape = (32,32,3)),\n",
    "        layers.MaxPooling2D((2,2)),\n",
    "        layers.Dropout(0.4),\n",
    "        layers.Flatten(),\n",
    "        layers.Dropout(0.5),\n",
    "        layers.Dense(128, activation = \"relu\", kernel_initializer = \"he_uniform\"),\n",
    "        layers.Dense(10, activation = \"softmax\") #softmax normalises\n",
    "    ])\n",
    "\n",
    "CNNd.compile(optimizer = \"adam\",\n",
    "            loss = \"sparse_categorical_crossentropy\",\n",
    "            metrics = [\"accuracy\"])"
   ]
  },
  {
   "cell_type": "code",
   "execution_count": 143,
   "id": "cb2221f3",
   "metadata": {
    "scrolled": true
   },
   "outputs": [
    {
     "name": "stdout",
     "output_type": "stream",
     "text": [
      "Epoch 1/100\n",
      "1250/1250 [==============================] - 53s 42ms/step - loss: 1.7140 - accuracy: 0.3629 - val_loss: 1.3121 - val_accuracy: 0.5070\n",
      "Epoch 2/100\n",
      "1250/1250 [==============================] - 52s 42ms/step - loss: 1.2958 - accuracy: 0.5303 - val_loss: 1.1546 - val_accuracy: 0.5810\n",
      "Epoch 3/100\n",
      "1250/1250 [==============================] - 52s 42ms/step - loss: 1.1107 - accuracy: 0.6021 - val_loss: 0.9121 - val_accuracy: 0.6731\n",
      "Epoch 4/100\n",
      "1250/1250 [==============================] - 52s 42ms/step - loss: 0.9986 - accuracy: 0.6443 - val_loss: 0.8648 - val_accuracy: 0.6883\n",
      "Epoch 5/100\n",
      "1250/1250 [==============================] - 52s 42ms/step - loss: 0.9295 - accuracy: 0.6714 - val_loss: 0.8058 - val_accuracy: 0.7126\n",
      "Epoch 6/100\n",
      "1250/1250 [==============================] - 52s 42ms/step - loss: 0.8832 - accuracy: 0.6867 - val_loss: 0.7890 - val_accuracy: 0.7282\n",
      "Epoch 7/100\n",
      "1250/1250 [==============================] - 52s 42ms/step - loss: 0.8495 - accuracy: 0.6992 - val_loss: 0.7454 - val_accuracy: 0.7386\n",
      "Epoch 8/100\n",
      "1250/1250 [==============================] - 52s 42ms/step - loss: 0.8146 - accuracy: 0.7129 - val_loss: 0.7283 - val_accuracy: 0.7449\n",
      "Epoch 9/100\n",
      "1250/1250 [==============================] - 52s 42ms/step - loss: 0.7884 - accuracy: 0.7225 - val_loss: 0.7072 - val_accuracy: 0.7560\n",
      "Epoch 10/100\n",
      "1250/1250 [==============================] - 52s 42ms/step - loss: 0.7606 - accuracy: 0.7321 - val_loss: 0.6869 - val_accuracy: 0.7614\n",
      "Epoch 11/100\n",
      "1250/1250 [==============================] - 52s 42ms/step - loss: 0.7466 - accuracy: 0.7390 - val_loss: 0.6677 - val_accuracy: 0.7660\n",
      "Epoch 12/100\n",
      "1250/1250 [==============================] - 52s 42ms/step - loss: 0.7274 - accuracy: 0.7457 - val_loss: 0.6456 - val_accuracy: 0.7724\n",
      "Epoch 13/100\n",
      "1250/1250 [==============================] - 52s 42ms/step - loss: 0.7218 - accuracy: 0.7472 - val_loss: 0.6479 - val_accuracy: 0.7703\n",
      "Epoch 14/100\n",
      "1250/1250 [==============================] - 52s 42ms/step - loss: 0.7068 - accuracy: 0.7509 - val_loss: 0.6565 - val_accuracy: 0.7700\n",
      "Epoch 15/100\n",
      "1250/1250 [==============================] - 52s 42ms/step - loss: 0.6985 - accuracy: 0.7557 - val_loss: 0.6566 - val_accuracy: 0.7690\n",
      "Epoch 16/100\n",
      "1250/1250 [==============================] - 52s 42ms/step - loss: 0.6824 - accuracy: 0.7603 - val_loss: 0.6399 - val_accuracy: 0.7789\n",
      "Epoch 17/100\n",
      "1250/1250 [==============================] - 52s 41ms/step - loss: 0.6725 - accuracy: 0.7664 - val_loss: 0.6685 - val_accuracy: 0.7692\n",
      "Epoch 18/100\n",
      "1250/1250 [==============================] - 52s 41ms/step - loss: 0.6632 - accuracy: 0.7707 - val_loss: 0.6325 - val_accuracy: 0.7784\n",
      "Epoch 19/100\n",
      "1250/1250 [==============================] - 52s 42ms/step - loss: 0.6505 - accuracy: 0.7724 - val_loss: 0.6241 - val_accuracy: 0.7847\n",
      "Epoch 20/100\n",
      "1250/1250 [==============================] - 52s 41ms/step - loss: 0.6444 - accuracy: 0.7768 - val_loss: 0.6490 - val_accuracy: 0.7754\n",
      "Epoch 21/100\n",
      "1250/1250 [==============================] - 52s 41ms/step - loss: 0.6436 - accuracy: 0.7760 - val_loss: 0.6230 - val_accuracy: 0.7850\n",
      "Epoch 22/100\n",
      "1250/1250 [==============================] - 52s 41ms/step - loss: 0.6288 - accuracy: 0.7791 - val_loss: 0.5899 - val_accuracy: 0.8000\n",
      "Epoch 23/100\n",
      "1250/1250 [==============================] - 52s 42ms/step - loss: 0.6332 - accuracy: 0.7798 - val_loss: 0.5920 - val_accuracy: 0.7998\n",
      "Epoch 24/100\n",
      "1250/1250 [==============================] - 52s 41ms/step - loss: 0.6233 - accuracy: 0.7850 - val_loss: 0.5892 - val_accuracy: 0.8040\n",
      "Epoch 25/100\n",
      "1250/1250 [==============================] - 52s 41ms/step - loss: 0.6186 - accuracy: 0.7850 - val_loss: 0.5949 - val_accuracy: 0.7954\n",
      "Epoch 26/100\n",
      "1250/1250 [==============================] - 52s 41ms/step - loss: 0.6155 - accuracy: 0.7891 - val_loss: 0.5938 - val_accuracy: 0.8033\n",
      "Epoch 27/100\n",
      "1250/1250 [==============================] - 52s 41ms/step - loss: 0.6174 - accuracy: 0.7871 - val_loss: 0.5840 - val_accuracy: 0.8056\n",
      "Epoch 28/100\n",
      "1250/1250 [==============================] - 52s 41ms/step - loss: 0.6132 - accuracy: 0.7876 - val_loss: 0.5708 - val_accuracy: 0.8036\n",
      "Epoch 29/100\n",
      "1250/1250 [==============================] - 52s 41ms/step - loss: 0.6044 - accuracy: 0.7914 - val_loss: 0.5935 - val_accuracy: 0.7972\n",
      "Epoch 30/100\n",
      "1250/1250 [==============================] - 52s 41ms/step - loss: 0.5996 - accuracy: 0.7928 - val_loss: 0.5978 - val_accuracy: 0.7956\n",
      "Epoch 31/100\n",
      "1250/1250 [==============================] - 52s 41ms/step - loss: 0.5926 - accuracy: 0.7936 - val_loss: 0.5899 - val_accuracy: 0.8031\n",
      "Epoch 32/100\n",
      "1250/1250 [==============================] - 52s 41ms/step - loss: 0.5941 - accuracy: 0.7944 - val_loss: 0.6079 - val_accuracy: 0.7955\n",
      "Epoch 33/100\n",
      "1250/1250 [==============================] - 52s 41ms/step - loss: 0.5936 - accuracy: 0.7948 - val_loss: 0.5823 - val_accuracy: 0.8043\n",
      "Epoch 34/100\n",
      "1250/1250 [==============================] - 52s 41ms/step - loss: 0.5866 - accuracy: 0.7989 - val_loss: 0.5856 - val_accuracy: 0.8055\n",
      "Epoch 35/100\n",
      "1250/1250 [==============================] - 52s 41ms/step - loss: 0.5834 - accuracy: 0.7990 - val_loss: 0.5666 - val_accuracy: 0.8104\n",
      "Epoch 36/100\n",
      "1250/1250 [==============================] - 52s 41ms/step - loss: 0.5877 - accuracy: 0.7962 - val_loss: 0.6397 - val_accuracy: 0.7884\n",
      "Epoch 37/100\n",
      "1250/1250 [==============================] - 52s 41ms/step - loss: 0.5843 - accuracy: 0.7983 - val_loss: 0.5844 - val_accuracy: 0.8045\n",
      "Epoch 38/100\n",
      "1250/1250 [==============================] - 52s 41ms/step - loss: 0.5790 - accuracy: 0.7997 - val_loss: 0.5782 - val_accuracy: 0.8068\n",
      "Epoch 39/100\n",
      "1250/1250 [==============================] - 52s 41ms/step - loss: 0.5764 - accuracy: 0.8010 - val_loss: 0.5833 - val_accuracy: 0.8066\n",
      "Epoch 40/100\n",
      "1250/1250 [==============================] - 52s 41ms/step - loss: 0.5784 - accuracy: 0.8000 - val_loss: 0.5865 - val_accuracy: 0.8045\n",
      "Epoch 41/100\n",
      "1250/1250 [==============================] - 52s 41ms/step - loss: 0.5772 - accuracy: 0.8007 - val_loss: 0.5729 - val_accuracy: 0.8081\n",
      "Epoch 42/100\n",
      "1250/1250 [==============================] - 52s 41ms/step - loss: 0.5762 - accuracy: 0.8016 - val_loss: 0.5781 - val_accuracy: 0.8088\n",
      "Epoch 43/100\n",
      "1250/1250 [==============================] - 52s 41ms/step - loss: 0.5673 - accuracy: 0.8049 - val_loss: 0.5988 - val_accuracy: 0.8038\n",
      "Epoch 44/100\n",
      "1250/1250 [==============================] - 52s 41ms/step - loss: 0.5648 - accuracy: 0.8079 - val_loss: 0.6057 - val_accuracy: 0.7989\n",
      "Epoch 45/100\n",
      "1250/1250 [==============================] - 52s 41ms/step - loss: 0.5685 - accuracy: 0.8071 - val_loss: 0.5595 - val_accuracy: 0.8139\n",
      "Epoch 46/100\n",
      "1250/1250 [==============================] - 52s 42ms/step - loss: 0.5677 - accuracy: 0.8065 - val_loss: 0.5938 - val_accuracy: 0.8066\n",
      "Epoch 47/100\n",
      "1250/1250 [==============================] - 52s 41ms/step - loss: 0.5631 - accuracy: 0.8082 - val_loss: 0.5881 - val_accuracy: 0.8046\n",
      "Epoch 48/100\n",
      "1250/1250 [==============================] - 52s 41ms/step - loss: 0.5628 - accuracy: 0.8067 - val_loss: 0.6056 - val_accuracy: 0.7949\n",
      "Epoch 49/100\n",
      "1250/1250 [==============================] - 52s 41ms/step - loss: 0.5613 - accuracy: 0.8081 - val_loss: 0.5732 - val_accuracy: 0.8100\n",
      "Epoch 50/100\n",
      "1250/1250 [==============================] - 52s 41ms/step - loss: 0.5562 - accuracy: 0.8080 - val_loss: 0.5782 - val_accuracy: 0.8076\n",
      "Epoch 51/100\n",
      "1250/1250 [==============================] - 52s 41ms/step - loss: 0.5610 - accuracy: 0.8084 - val_loss: 0.5542 - val_accuracy: 0.8159\n",
      "Epoch 52/100\n",
      "1250/1250 [==============================] - 52s 41ms/step - loss: 0.5553 - accuracy: 0.8106 - val_loss: 0.5786 - val_accuracy: 0.8100\n",
      "Epoch 53/100\n",
      "1250/1250 [==============================] - 52s 41ms/step - loss: 0.5633 - accuracy: 0.8079 - val_loss: 0.6040 - val_accuracy: 0.7982\n",
      "Epoch 54/100\n",
      "1250/1250 [==============================] - 52s 41ms/step - loss: 0.5555 - accuracy: 0.8099 - val_loss: 0.5741 - val_accuracy: 0.8060\n",
      "Epoch 55/100\n",
      "1250/1250 [==============================] - 52s 41ms/step - loss: 0.5498 - accuracy: 0.8117 - val_loss: 0.5596 - val_accuracy: 0.8124\n",
      "Epoch 56/100\n"
     ]
    },
    {
     "name": "stdout",
     "output_type": "stream",
     "text": [
      "1250/1250 [==============================] - 52s 41ms/step - loss: 0.5538 - accuracy: 0.8117 - val_loss: 0.5686 - val_accuracy: 0.8089\n",
      "Epoch 57/100\n",
      "1250/1250 [==============================] - 52s 41ms/step - loss: 0.5568 - accuracy: 0.8083 - val_loss: 0.5816 - val_accuracy: 0.8081\n",
      "Epoch 58/100\n",
      "1250/1250 [==============================] - 52s 41ms/step - loss: 0.5524 - accuracy: 0.8103 - val_loss: 0.6222 - val_accuracy: 0.7947\n",
      "Epoch 59/100\n",
      "1250/1250 [==============================] - 52s 41ms/step - loss: 0.5579 - accuracy: 0.8104 - val_loss: 0.5621 - val_accuracy: 0.8159\n",
      "Epoch 60/100\n",
      "1250/1250 [==============================] - 52s 41ms/step - loss: 0.5481 - accuracy: 0.8139 - val_loss: 0.6001 - val_accuracy: 0.8034\n",
      "Epoch 61/100\n",
      "1250/1250 [==============================] - 52s 41ms/step - loss: 0.5394 - accuracy: 0.8164 - val_loss: 0.6043 - val_accuracy: 0.8029\n",
      "Epoch 62/100\n",
      "1250/1250 [==============================] - 52s 41ms/step - loss: 0.5531 - accuracy: 0.8136 - val_loss: 0.6126 - val_accuracy: 0.7993\n",
      "Epoch 63/100\n",
      "1250/1250 [==============================] - 52s 41ms/step - loss: 0.5342 - accuracy: 0.8185 - val_loss: 0.5859 - val_accuracy: 0.8075\n",
      "Epoch 64/100\n",
      "1250/1250 [==============================] - 52s 41ms/step - loss: 0.5460 - accuracy: 0.8138 - val_loss: 0.5715 - val_accuracy: 0.8162\n",
      "Epoch 65/100\n",
      "1250/1250 [==============================] - 52s 41ms/step - loss: 0.5441 - accuracy: 0.8163 - val_loss: 0.5690 - val_accuracy: 0.8145\n",
      "Epoch 66/100\n",
      "1250/1250 [==============================] - 52s 41ms/step - loss: 0.5406 - accuracy: 0.8175 - val_loss: 0.5799 - val_accuracy: 0.8127\n",
      "Epoch 67/100\n",
      "1250/1250 [==============================] - 52s 41ms/step - loss: 0.5487 - accuracy: 0.8147 - val_loss: 0.5980 - val_accuracy: 0.8052\n",
      "Epoch 68/100\n",
      "1250/1250 [==============================] - 52s 41ms/step - loss: 0.5399 - accuracy: 0.8170 - val_loss: 0.6038 - val_accuracy: 0.8062\n",
      "Epoch 69/100\n",
      "1250/1250 [==============================] - 52s 41ms/step - loss: 0.5413 - accuracy: 0.8145 - val_loss: 0.5886 - val_accuracy: 0.8066\n",
      "Epoch 70/100\n",
      "1250/1250 [==============================] - 52s 41ms/step - loss: 0.5401 - accuracy: 0.8167 - val_loss: 0.5918 - val_accuracy: 0.8076\n",
      "Epoch 71/100\n",
      "1250/1250 [==============================] - 52s 41ms/step - loss: 0.5361 - accuracy: 0.8183 - val_loss: 0.5999 - val_accuracy: 0.8098\n",
      "Epoch 72/100\n",
      "1250/1250 [==============================] - 52s 41ms/step - loss: 0.5405 - accuracy: 0.8155 - val_loss: 0.5457 - val_accuracy: 0.8179\n",
      "Epoch 73/100\n",
      "1250/1250 [==============================] - 52s 41ms/step - loss: 0.5425 - accuracy: 0.8188 - val_loss: 0.6208 - val_accuracy: 0.8040\n",
      "Epoch 74/100\n",
      "1250/1250 [==============================] - 52s 41ms/step - loss: 0.5352 - accuracy: 0.8195 - val_loss: 0.6004 - val_accuracy: 0.8075\n",
      "Epoch 75/100\n",
      "1250/1250 [==============================] - 52s 41ms/step - loss: 0.5322 - accuracy: 0.8194 - val_loss: 0.5743 - val_accuracy: 0.8147\n",
      "Epoch 76/100\n",
      "1250/1250 [==============================] - 52s 41ms/step - loss: 0.5443 - accuracy: 0.8165 - val_loss: 0.5832 - val_accuracy: 0.8083\n",
      "Epoch 77/100\n",
      "1250/1250 [==============================] - 52s 41ms/step - loss: 0.5409 - accuracy: 0.8190 - val_loss: 0.5873 - val_accuracy: 0.8117\n",
      "Epoch 78/100\n",
      "1250/1250 [==============================] - 52s 41ms/step - loss: 0.5377 - accuracy: 0.8199 - val_loss: 0.6257 - val_accuracy: 0.7955\n",
      "Epoch 79/100\n",
      "1250/1250 [==============================] - 52s 41ms/step - loss: 0.5283 - accuracy: 0.8221 - val_loss: 0.5898 - val_accuracy: 0.8109\n",
      "Epoch 80/100\n",
      "1250/1250 [==============================] - 52s 41ms/step - loss: 0.5367 - accuracy: 0.8199 - val_loss: 0.6040 - val_accuracy: 0.8049\n",
      "Epoch 81/100\n",
      "1250/1250 [==============================] - 52s 41ms/step - loss: 0.5205 - accuracy: 0.8227 - val_loss: 0.5678 - val_accuracy: 0.8165\n",
      "Epoch 82/100\n",
      "1250/1250 [==============================] - 52s 41ms/step - loss: 0.5321 - accuracy: 0.8195 - val_loss: 0.5856 - val_accuracy: 0.8164\n",
      "Epoch 83/100\n",
      "1250/1250 [==============================] - 52s 41ms/step - loss: 0.5294 - accuracy: 0.8194 - val_loss: 0.5841 - val_accuracy: 0.8121\n",
      "Epoch 84/100\n",
      "1250/1250 [==============================] - 52s 41ms/step - loss: 0.5263 - accuracy: 0.8223 - val_loss: 0.5664 - val_accuracy: 0.8196\n",
      "Epoch 85/100\n",
      "1250/1250 [==============================] - 52s 41ms/step - loss: 0.5265 - accuracy: 0.8245 - val_loss: 0.6000 - val_accuracy: 0.8116\n",
      "Epoch 86/100\n",
      "1250/1250 [==============================] - 52s 41ms/step - loss: 0.5346 - accuracy: 0.8210 - val_loss: 0.5935 - val_accuracy: 0.8066\n",
      "Epoch 87/100\n",
      "1250/1250 [==============================] - 52s 41ms/step - loss: 0.5235 - accuracy: 0.8244 - val_loss: 0.5632 - val_accuracy: 0.8189\n",
      "Epoch 88/100\n",
      "1250/1250 [==============================] - 52s 41ms/step - loss: 0.5187 - accuracy: 0.8258 - val_loss: 0.6055 - val_accuracy: 0.8124\n",
      "Epoch 89/100\n",
      "1250/1250 [==============================] - 52s 41ms/step - loss: 0.5293 - accuracy: 0.8251 - val_loss: 0.5866 - val_accuracy: 0.8131\n",
      "Epoch 90/100\n",
      "1250/1250 [==============================] - 52s 41ms/step - loss: 0.5259 - accuracy: 0.8227 - val_loss: 0.5696 - val_accuracy: 0.8178\n",
      "Epoch 91/100\n",
      "1250/1250 [==============================] - 52s 41ms/step - loss: 0.5233 - accuracy: 0.8243 - val_loss: 0.5605 - val_accuracy: 0.8239\n",
      "Epoch 92/100\n",
      "1250/1250 [==============================] - 52s 41ms/step - loss: 0.5253 - accuracy: 0.8244 - val_loss: 0.5633 - val_accuracy: 0.8196\n",
      "Epoch 93/100\n",
      "1250/1250 [==============================] - 52s 41ms/step - loss: 0.5176 - accuracy: 0.8273 - val_loss: 0.5928 - val_accuracy: 0.8097\n",
      "Epoch 94/100\n",
      "1250/1250 [==============================] - 52s 41ms/step - loss: 0.5200 - accuracy: 0.8252 - val_loss: 0.5712 - val_accuracy: 0.8200\n",
      "Epoch 95/100\n",
      "1250/1250 [==============================] - 52s 41ms/step - loss: 0.5194 - accuracy: 0.8281 - val_loss: 0.6209 - val_accuracy: 0.8108\n",
      "Epoch 96/100\n",
      "1250/1250 [==============================] - 52s 41ms/step - loss: 0.5238 - accuracy: 0.8253 - val_loss: 0.5675 - val_accuracy: 0.8202\n",
      "Epoch 97/100\n",
      "1250/1250 [==============================] - 52s 41ms/step - loss: 0.5260 - accuracy: 0.8235 - val_loss: 0.5884 - val_accuracy: 0.8127\n",
      "Epoch 98/100\n",
      "1250/1250 [==============================] - 52s 41ms/step - loss: 0.5269 - accuracy: 0.8232 - val_loss: 0.5980 - val_accuracy: 0.8135\n",
      "Epoch 99/100\n",
      "1250/1250 [==============================] - 52s 41ms/step - loss: 0.5210 - accuracy: 0.8274 - val_loss: 0.5976 - val_accuracy: 0.8121\n",
      "Epoch 100/100\n",
      "1250/1250 [==============================] - 52s 41ms/step - loss: 0.5152 - accuracy: 0.8271 - val_loss: 0.5895 - val_accuracy: 0.8187\n"
     ]
    }
   ],
   "source": [
    "CNNdT = CNNd.fit(x_train, y_train, epochs = 100, \n",
    "                 validation_data = (x_val, y_val))"
   ]
  },
  {
   "cell_type": "code",
   "execution_count": 144,
   "id": "32c2890f",
   "metadata": {},
   "outputs": [
    {
     "name": "stdout",
     "output_type": "stream",
     "text": [
      "313/313 [==============================] - 3s 9ms/step - loss: 0.5928 - accuracy: 0.8206\n"
     ]
    },
    {
     "data": {
      "text/plain": [
       "[0.592810869216919, 0.8205999732017517]"
      ]
     },
     "execution_count": 144,
     "metadata": {},
     "output_type": "execute_result"
    }
   ],
   "source": [
    "CNNd.evaluate(x_test, y_test)"
   ]
  },
  {
   "cell_type": "code",
   "execution_count": 145,
   "id": "2645946d",
   "metadata": {
    "scrolled": true
   },
   "outputs": [
    {
     "data": {
      "image/png": "[encoded data removed]",
      "text/plain": [
       "<Figure size 720x360 with 2 Axes>"
      ]
     },
     "metadata": {
      "needs_background": "light"
     },
     "output_type": "display_data"
    }
   ],
   "source": [
    "#plotting training and validation accuracy\n",
    "plt.figure(figsize=(10, 5))\n",
    "plt.subplot(1, 2, 1)\n",
    "plt.plot(CNNdT.history['accuracy'], label='Training Accuracy')\n",
    "plt.plot(CNNdT.history['val_accuracy'], label='Validation Accuracy')\n",
    "plt.legend(loc='lower right')\n",
    "plt.title('Training and Validation Accuracy')\n",
    "\n",
    "plt.subplot(1, 2, 2)\n",
    "plt.plot(CNNdT.history['loss'], label='Training Loss')\n",
    "plt.plot(CNNdT.history['val_loss'], label='Validation Loss')\n",
    "plt.legend(loc='upper right')\n",
    "plt.title('Training and Validation Loss')\n",
    "plt.show()"
   ]
  },
  {
   "cell_type": "code",
   "execution_count": 204,
   "id": "42e4f489",
   "metadata": {},
   "outputs": [
    {
     "name": "stdout",
     "output_type": "stream",
     "text": [
      "Model: \"sequential_5\"\n",
      "_________________________________________________________________\n",
      " Layer (type)                Output Shape              Param #   \n",
      "=================================================================\n",
      " conv2d_16 (Conv2D)          (None, 32, 32, 32)        896       \n",
      "                                                                 \n",
      " conv2d_17 (Conv2D)          (None, 32, 32, 32)        9248      \n",
      "                                                                 \n",
      " max_pooling2d_10 (MaxPooli  (None, 16, 16, 32)        0         \n",
      " ng2D)                                                           \n",
      "                                                                 \n",
      " dropout_7 (Dropout)         (None, 16, 16, 32)        0         \n",
      "                                                                 \n",
      " conv2d_18 (Conv2D)          (None, 16, 16, 64)        18496     \n",
      "                                                                 \n",
      " conv2d_19 (Conv2D)          (None, 16, 16, 64)        36928     \n",
      "                                                                 \n",
      " max_pooling2d_11 (MaxPooli  (None, 8, 8, 64)          0         \n",
      " ng2D)                                                           \n",
      "                                                                 \n",
      " dropout_8 (Dropout)         (None, 8, 8, 64)          0         \n",
      "                                                                 \n",
      " conv2d_20 (Conv2D)          (None, 8, 8, 128)         73856     \n",
      "                                                                 \n",
      " conv2d_21 (Conv2D)          (None, 8, 8, 128)         147584    \n",
      "                                                                 \n",
      " max_pooling2d_12 (MaxPooli  (None, 4, 4, 128)         0         \n",
      " ng2D)                                                           \n",
      "                                                                 \n",
      " dropout_9 (Dropout)         (None, 4, 4, 128)         0         \n",
      "                                                                 \n",
      " flatten_5 (Flatten)         (None, 2048)              0         \n",
      "                                                                 \n",
      " dropout_10 (Dropout)        (None, 2048)              0         \n",
      "                                                                 \n",
      " dense_11 (Dense)            (None, 128)               262272    \n",
      "                                                                 \n",
      " dense_12 (Dense)            (None, 10)                1290      \n",
      "                                                                 \n",
      "=================================================================\n",
      "Total params: 550570 (2.10 MB)\n",
      "Trainable params: 550570 (2.10 MB)\n",
      "Non-trainable params: 0 (0.00 Byte)\n",
      "_________________________________________________________________\n"
     ]
    }
   ],
   "source": [
    "CNNd.summary()"
   ]
  },
  {
   "cell_type": "code",
   "execution_count": 168,
   "id": "b45b60ce",
   "metadata": {},
   "outputs": [],
   "source": [
    "#CNN - 3 Convulational Layers w/ dropout\n",
    "CNNdb = models.Sequential([\n",
    "        layers.Conv2D(filters = 32, kernel_size = (3,3), activation = \"relu\", kernel_initializer= \"he_uniform\", padding= \"same\", input_shape = (32,32,3)),\n",
    "        layers.BatchNormalization(),\n",
    "        layers.Conv2D(filters = 32, kernel_size = (3,3), activation = \"relu\", kernel_initializer= \"he_uniform\", padding= \"same\", input_shape = (32,32,3)),    \n",
    "        layers.BatchNormalization(),\n",
    "        layers.MaxPooling2D((2,2)),\n",
    "        layers.Dropout(0.2),\n",
    "        layers.Conv2D(filters = 64, kernel_size = (3,3), activation = \"relu\", kernel_initializer= \"he_uniform\", padding= \"same\", input_shape = (32,32,3)),\n",
    "        layers.BatchNormalization(),\n",
    "        layers.Conv2D(filters = 64, kernel_size = (3,3), activation = \"relu\", kernel_initializer= \"he_uniform\", padding= \"same\", input_shape = (32,32,3)),    \n",
    "        layers.BatchNormalization(),\n",
    "        layers.MaxPooling2D((2,2)),\n",
    "        layers.Dropout(0.3),\n",
    "        layers.Conv2D(filters = 128, kernel_size = (3,3), activation = \"relu\", kernel_initializer= \"he_uniform\", padding= \"same\", input_shape = (32,32,3)),    \n",
    "        layers.BatchNormalization(),\n",
    "        layers.Conv2D(filters = 128, kernel_size = (3,3), activation = \"relu\", kernel_initializer= \"he_uniform\", padding= \"same\", input_shape = (32,32,3)),\n",
    "        layers.BatchNormalization(),\n",
    "        layers.MaxPooling2D((2,2)),\n",
    "        layers.Dropout(0.4),\n",
    "        layers.Flatten(),\n",
    "        layers.Dense(128, activation = \"relu\", kernel_initializer = \"he_uniform\"),\n",
    "        layers.BatchNormalization(),\n",
    "        layers.Dropout(0.5),\n",
    "        layers.Dense(10, activation = \"softmax\") #softmax normalises\n",
    "    ])\n",
    "\n",
    "CNNdb.compile(optimizer = \"adam\",\n",
    "            loss = \"sparse_categorical_crossentropy\",\n",
    "            metrics = [\"accuracy\"])"
   ]
  },
  {
   "cell_type": "code",
   "execution_count": 169,
   "id": "14848459",
   "metadata": {
    "scrolled": false
   },
   "outputs": [
    {
     "name": "stdout",
     "output_type": "stream",
     "text": [
      "Epoch 1/300\n",
      "1250/1250 [==============================] - ETA: 0s - loss: 1.7089 - accuracy: 0.4114\n",
      "Epoch 1: val_loss improved from inf to 1.25321, saving model to saved_model\\my_model\n",
      "INFO:tensorflow:Assets written to: saved_model\\my_model\\assets\n"
     ]
    },
    {
     "name": "stderr",
     "output_type": "stream",
     "text": [
      "INFO:tensorflow:Assets written to: saved_model\\my_model\\assets\n"
     ]
    },
    {
     "name": "stdout",
     "output_type": "stream",
     "text": [
      "1250/1250 [==============================] - 71s 55ms/step - loss: 1.7089 - accuracy: 0.4114 - val_loss: 1.2532 - val_accuracy: 0.5578\n",
      "Epoch 2/300\n",
      "1250/1250 [==============================] - ETA: 0s - loss: 1.1892 - accuracy: 0.5777\n",
      "Epoch 2: val_loss improved from 1.25321 to 0.96845, saving model to saved_model\\my_model\n",
      "INFO:tensorflow:Assets written to: saved_model\\my_model\\assets\n"
     ]
    },
    {
     "name": "stderr",
     "output_type": "stream",
     "text": [
      "INFO:tensorflow:Assets written to: saved_model\\my_model\\assets\n"
     ]
    },
    {
     "name": "stdout",
     "output_type": "stream",
     "text": [
      "1250/1250 [==============================] - 68s 55ms/step - loss: 1.1892 - accuracy: 0.5777 - val_loss: 0.9684 - val_accuracy: 0.6602\n",
      "Epoch 3/300\n",
      "1250/1250 [==============================] - ETA: 0s - loss: 0.9893 - accuracy: 0.6547\n",
      "Epoch 3: val_loss improved from 0.96845 to 0.88640, saving model to saved_model\\my_model\n",
      "INFO:tensorflow:Assets written to: saved_model\\my_model\\assets\n"
     ]
    },
    {
     "name": "stderr",
     "output_type": "stream",
     "text": [
      "INFO:tensorflow:Assets written to: saved_model\\my_model\\assets\n"
     ]
    },
    {
     "name": "stdout",
     "output_type": "stream",
     "text": [
      "1250/1250 [==============================] - 77s 62ms/step - loss: 0.9893 - accuracy: 0.6547 - val_loss: 0.8864 - val_accuracy: 0.6832\n",
      "Epoch 4/300\n",
      "1250/1250 [==============================] - ETA: 0s - loss: 0.8749 - accuracy: 0.6986\n",
      "Epoch 4: val_loss improved from 0.88640 to 0.74489, saving model to saved_model\\my_model\n",
      "INFO:tensorflow:Assets written to: saved_model\\my_model\\assets\n"
     ]
    },
    {
     "name": "stderr",
     "output_type": "stream",
     "text": [
      "INFO:tensorflow:Assets written to: saved_model\\my_model\\assets\n"
     ]
    },
    {
     "name": "stdout",
     "output_type": "stream",
     "text": [
      "1250/1250 [==============================] - 77s 61ms/step - loss: 0.8749 - accuracy: 0.6986 - val_loss: 0.7449 - val_accuracy: 0.7379\n",
      "Epoch 5/300\n",
      "1250/1250 [==============================] - ETA: 0s - loss: 0.7909 - accuracy: 0.7260\n",
      "Epoch 5: val_loss improved from 0.74489 to 0.67303, saving model to saved_model\\my_model\n",
      "INFO:tensorflow:Assets written to: saved_model\\my_model\\assets\n"
     ]
    },
    {
     "name": "stderr",
     "output_type": "stream",
     "text": [
      "INFO:tensorflow:Assets written to: saved_model\\my_model\\assets\n"
     ]
    },
    {
     "name": "stdout",
     "output_type": "stream",
     "text": [
      "1250/1250 [==============================] - 77s 62ms/step - loss: 0.7909 - accuracy: 0.7260 - val_loss: 0.6730 - val_accuracy: 0.7655\n",
      "Epoch 6/300\n",
      "1250/1250 [==============================] - ETA: 0s - loss: 0.7157 - accuracy: 0.7557\n",
      "Epoch 6: val_loss did not improve from 0.67303\n",
      "1250/1250 [==============================] - 78s 62ms/step - loss: 0.7157 - accuracy: 0.7557 - val_loss: 0.7357 - val_accuracy: 0.7454\n",
      "Epoch 7/300\n",
      "1250/1250 [==============================] - ETA: 0s - loss: 0.6706 - accuracy: 0.7689\n",
      "Epoch 7: val_loss improved from 0.67303 to 0.59063, saving model to saved_model\\my_model\n",
      "INFO:tensorflow:Assets written to: saved_model\\my_model\\assets\n"
     ]
    },
    {
     "name": "stderr",
     "output_type": "stream",
     "text": [
      "INFO:tensorflow:Assets written to: saved_model\\my_model\\assets\n"
     ]
    },
    {
     "name": "stdout",
     "output_type": "stream",
     "text": [
      "1250/1250 [==============================] - 88s 70ms/step - loss: 0.6706 - accuracy: 0.7689 - val_loss: 0.5906 - val_accuracy: 0.7999\n",
      "Epoch 8/300\n",
      "1250/1250 [==============================] - ETA: 0s - loss: 0.6187 - accuracy: 0.7861\n",
      "Epoch 8: val_loss improved from 0.59063 to 0.56028, saving model to saved_model\\my_model\n",
      "INFO:tensorflow:Assets written to: saved_model\\my_model\\assets\n"
     ]
    },
    {
     "name": "stderr",
     "output_type": "stream",
     "text": [
      "INFO:tensorflow:Assets written to: saved_model\\my_model\\assets\n"
     ]
    },
    {
     "name": "stdout",
     "output_type": "stream",
     "text": [
      "1250/1250 [==============================] - 85s 68ms/step - loss: 0.6187 - accuracy: 0.7861 - val_loss: 0.5603 - val_accuracy: 0.8090\n",
      "Epoch 9/300\n",
      "1250/1250 [==============================] - ETA: 0s - loss: 0.5811 - accuracy: 0.8006\n",
      "Epoch 9: val_loss did not improve from 0.56028\n",
      "1250/1250 [==============================] - 85s 68ms/step - loss: 0.5811 - accuracy: 0.8006 - val_loss: 0.5704 - val_accuracy: 0.8066\n",
      "Epoch 10/300\n",
      "1250/1250 [==============================] - ETA: 0s - loss: 0.5555 - accuracy: 0.8109\n",
      "Epoch 10: val_loss did not improve from 0.56028\n",
      "1250/1250 [==============================] - 85s 68ms/step - loss: 0.5555 - accuracy: 0.8109 - val_loss: 0.5736 - val_accuracy: 0.8036\n",
      "Epoch 11/300\n",
      "1250/1250 [==============================] - ETA: 0s - loss: 0.5248 - accuracy: 0.8214\n",
      "Epoch 11: val_loss improved from 0.56028 to 0.52505, saving model to saved_model\\my_model\n",
      "INFO:tensorflow:Assets written to: saved_model\\my_model\\assets\n"
     ]
    },
    {
     "name": "stderr",
     "output_type": "stream",
     "text": [
      "INFO:tensorflow:Assets written to: saved_model\\my_model\\assets\n"
     ]
    },
    {
     "name": "stdout",
     "output_type": "stream",
     "text": [
      "1250/1250 [==============================] - 87s 69ms/step - loss: 0.5248 - accuracy: 0.8214 - val_loss: 0.5251 - val_accuracy: 0.8196\n",
      "Epoch 12/300\n",
      "1250/1250 [==============================] - ETA: 0s - loss: 0.4971 - accuracy: 0.8299\n",
      "Epoch 12: val_loss improved from 0.52505 to 0.49206, saving model to saved_model\\my_model\n",
      "INFO:tensorflow:Assets written to: saved_model\\my_model\\assets\n"
     ]
    },
    {
     "name": "stderr",
     "output_type": "stream",
     "text": [
      "INFO:tensorflow:Assets written to: saved_model\\my_model\\assets\n"
     ]
    },
    {
     "name": "stdout",
     "output_type": "stream",
     "text": [
      "1250/1250 [==============================] - 81s 65ms/step - loss: 0.4971 - accuracy: 0.8299 - val_loss: 0.4921 - val_accuracy: 0.8322\n",
      "Epoch 13/300\n",
      "1250/1250 [==============================] - ETA: 0s - loss: 0.4792 - accuracy: 0.8377\n",
      "Epoch 13: val_loss did not improve from 0.49206\n",
      "1250/1250 [==============================] - 78s 63ms/step - loss: 0.4792 - accuracy: 0.8377 - val_loss: 0.5073 - val_accuracy: 0.8271\n",
      "Epoch 14/300\n",
      "1250/1250 [==============================] - ETA: 0s - loss: 0.4657 - accuracy: 0.8425\n",
      "Epoch 14: val_loss did not improve from 0.49206\n",
      "1250/1250 [==============================] - 78s 62ms/step - loss: 0.4657 - accuracy: 0.8425 - val_loss: 0.4987 - val_accuracy: 0.8338\n",
      "Epoch 15/300\n",
      "1250/1250 [==============================] - ETA: 0s - loss: 0.4388 - accuracy: 0.8490\n",
      "Epoch 15: val_loss did not improve from 0.49206\n",
      "1250/1250 [==============================] - 78s 62ms/step - loss: 0.4388 - accuracy: 0.8490 - val_loss: 0.5370 - val_accuracy: 0.8239\n",
      "Epoch 16/300\n",
      "1250/1250 [==============================] - ETA: 0s - loss: 0.4270 - accuracy: 0.8538\n",
      "Epoch 16: val_loss improved from 0.49206 to 0.46490, saving model to saved_model\\my_model\n",
      "INFO:tensorflow:Assets written to: saved_model\\my_model\\assets\n"
     ]
    },
    {
     "name": "stderr",
     "output_type": "stream",
     "text": [
      "INFO:tensorflow:Assets written to: saved_model\\my_model\\assets\n"
     ]
    },
    {
     "name": "stdout",
     "output_type": "stream",
     "text": [
      "1250/1250 [==============================] - 80s 64ms/step - loss: 0.4270 - accuracy: 0.8538 - val_loss: 0.4649 - val_accuracy: 0.8441\n",
      "Epoch 17/300\n",
      "1250/1250 [==============================] - ETA: 0s - loss: 0.4077 - accuracy: 0.8604\n",
      "Epoch 17: val_loss did not improve from 0.46490\n",
      "1250/1250 [==============================] - 77s 61ms/step - loss: 0.4077 - accuracy: 0.8604 - val_loss: 0.4713 - val_accuracy: 0.8442\n",
      "Epoch 18/300\n",
      "1250/1250 [==============================] - ETA: 0s - loss: 0.4039 - accuracy: 0.8606\n",
      "Epoch 18: val_loss did not improve from 0.46490\n",
      "1250/1250 [==============================] - 77s 61ms/step - loss: 0.4039 - accuracy: 0.8606 - val_loss: 0.4932 - val_accuracy: 0.8387\n",
      "Epoch 19/300\n",
      "1250/1250 [==============================] - ETA: 0s - loss: 0.3815 - accuracy: 0.8682\n",
      "Epoch 19: val_loss did not improve from 0.46490\n",
      "1250/1250 [==============================] - 77s 61ms/step - loss: 0.3815 - accuracy: 0.8682 - val_loss: 0.5012 - val_accuracy: 0.8381\n",
      "Epoch 20/300\n",
      "1250/1250 [==============================] - ETA: 0s - loss: 0.3706 - accuracy: 0.8720\n",
      "Epoch 20: val_loss did not improve from 0.46490\n",
      "1250/1250 [==============================] - 77s 62ms/step - loss: 0.3706 - accuracy: 0.8720 - val_loss: 0.4746 - val_accuracy: 0.8486\n",
      "Epoch 21/300\n",
      "1250/1250 [==============================] - ETA: 0s - loss: 0.3666 - accuracy: 0.8748\n",
      "Epoch 21: val_loss improved from 0.46490 to 0.46026, saving model to saved_model\\my_model\n",
      "INFO:tensorflow:Assets written to: saved_model\\my_model\\assets\n"
     ]
    },
    {
     "name": "stderr",
     "output_type": "stream",
     "text": [
      "INFO:tensorflow:Assets written to: saved_model\\my_model\\assets\n"
     ]
    },
    {
     "name": "stdout",
     "output_type": "stream",
     "text": [
      "1250/1250 [==============================] - 79s 63ms/step - loss: 0.3666 - accuracy: 0.8748 - val_loss: 0.4603 - val_accuracy: 0.8490\n",
      "Epoch 22/300\n",
      "1250/1250 [==============================] - ETA: 0s - loss: 0.3528 - accuracy: 0.8795\n",
      "Epoch 22: val_loss did not improve from 0.46026\n",
      "1250/1250 [==============================] - 77s 62ms/step - loss: 0.3528 - accuracy: 0.8795 - val_loss: 0.4763 - val_accuracy: 0.8481\n",
      "Epoch 23/300\n",
      "1250/1250 [==============================] - ETA: 0s - loss: 0.3427 - accuracy: 0.8814\n",
      "Epoch 23: val_loss did not improve from 0.46026\n",
      "1250/1250 [==============================] - 77s 62ms/step - loss: 0.3427 - accuracy: 0.8814 - val_loss: 0.5244 - val_accuracy: 0.8350\n",
      "Epoch 24/300\n",
      "1250/1250 [==============================] - ETA: 0s - loss: 0.3335 - accuracy: 0.8855\n",
      "Epoch 24: val_loss did not improve from 0.46026\n",
      "1250/1250 [==============================] - 77s 62ms/step - loss: 0.3335 - accuracy: 0.8855 - val_loss: 0.4629 - val_accuracy: 0.8508\n",
      "Epoch 25/300\n",
      "1250/1250 [==============================] - ETA: 0s - loss: 0.3278 - accuracy: 0.8880\n",
      "Epoch 25: val_loss improved from 0.46026 to 0.45861, saving model to saved_model\\my_model\n",
      "INFO:tensorflow:Assets written to: saved_model\\my_model\\assets\n"
     ]
    },
    {
     "name": "stderr",
     "output_type": "stream",
     "text": [
      "INFO:tensorflow:Assets written to: saved_model\\my_model\\assets\n"
     ]
    },
    {
     "name": "stdout",
     "output_type": "stream",
     "text": [
      "1250/1250 [==============================] - 79s 63ms/step - loss: 0.3278 - accuracy: 0.8880 - val_loss: 0.4586 - val_accuracy: 0.8526\n",
      "Epoch 26/300\n",
      "1250/1250 [==============================] - ETA: 0s - loss: 0.3154 - accuracy: 0.8922\n",
      "Epoch 26: val_loss did not improve from 0.45861\n",
      "1250/1250 [==============================] - 88s 70ms/step - loss: 0.3154 - accuracy: 0.8922 - val_loss: 0.4865 - val_accuracy: 0.8476\n",
      "Epoch 27/300\n",
      "1250/1250 [==============================] - ETA: 0s - loss: 0.3113 - accuracy: 0.8938\n",
      "Epoch 27: val_loss did not improve from 0.45861\n",
      "1250/1250 [==============================] - 88s 70ms/step - loss: 0.3113 - accuracy: 0.8938 - val_loss: 0.4604 - val_accuracy: 0.8534\n",
      "Epoch 28/300\n",
      "1250/1250 [==============================] - ETA: 0s - loss: 0.2986 - accuracy: 0.8968\n",
      "Epoch 28: val_loss did not improve from 0.45861\n",
      "1250/1250 [==============================] - 88s 70ms/step - loss: 0.2986 - accuracy: 0.8968 - val_loss: 0.4655 - val_accuracy: 0.8545\n",
      "Epoch 29/300\n",
      "1250/1250 [==============================] - ETA: 0s - loss: 0.2977 - accuracy: 0.8968\n",
      "Epoch 29: val_loss did not improve from 0.45861\n",
      "1250/1250 [==============================] - 88s 70ms/step - loss: 0.2977 - accuracy: 0.8968 - val_loss: 0.4851 - val_accuracy: 0.8509\n",
      "Epoch 30/300\n",
      "1250/1250 [==============================] - ETA: 0s - loss: 0.2928 - accuracy: 0.8997\n",
      "Epoch 30: val_loss did not improve from 0.45861\n",
      "1250/1250 [==============================] - 88s 71ms/step - loss: 0.2928 - accuracy: 0.8997 - val_loss: 0.4853 - val_accuracy: 0.8564\n"
     ]
    }
   ],
   "source": [
    "from keras.callbacks import ModelCheckpoint, EarlyStopping\n",
    "callbacks = [EarlyStopping(monitor = 'val_loss', patience = 5),\n",
    "             ModelCheckpoint(filepath = 'saved_model\\\\my_model', monitor = 'val_loss', verbose = 1, save_best_only=True)]\n",
    "\n",
    "CNNdbT = CNNdb.fit(x_train, y_train, epochs = 300, \n",
    "                 validation_data = (x_val, y_val), callbacks = callbacks)"
   ]
  },
  {
   "cell_type": "code",
   "execution_count": 174,
   "id": "a6cebdf6",
   "metadata": {
    "scrolled": false
   },
   "outputs": [
    {
     "name": "stdout",
     "output_type": "stream",
     "text": [
      "313/313 [==============================] - 6s 20ms/step - loss: 0.4850 - accuracy: 0.8532\n"
     ]
    }
   ],
   "source": [
    "predictions = CNNdb.evaluate(x_test, y_test)"
   ]
  },
  {
   "cell_type": "code",
   "execution_count": 171,
   "id": "ed84d409",
   "metadata": {
    "scrolled": true
   },
   "outputs": [
    {
     "data": {
      "image/png": "[encoded data removed]",
      "text/plain": [
       "<Figure size 720x360 with 2 Axes>"
      ]
     },
     "metadata": {
      "needs_background": "light"
     },
     "output_type": "display_data"
    }
   ],
   "source": [
    "#plotting training and validation accuracy\n",
    "plt.figure(figsize=(10, 5))\n",
    "plt.subplot(1, 2, 1)\n",
    "plt.plot(CNNdbT.history['accuracy'], label='Training Accuracy')\n",
    "plt.plot(CNNdbT.history['val_accuracy'], label='Validation Accuracy')\n",
    "plt.legend(loc='lower right')\n",
    "plt.title('Training and Validation Accuracy')\n",
    "\n",
    "plt.subplot(1, 2, 2)\n",
    "plt.plot(CNNdbT.history['loss'], label='Training Loss')\n",
    "plt.plot(CNNdbT.history['val_loss'], label='Validation Loss')\n",
    "plt.legend(loc='upper right')\n",
    "plt.title('Training and Validation Loss')\n",
    "plt.show()"
   ]
  },
  {
   "cell_type": "code",
   "execution_count": 203,
   "id": "3284f868",
   "metadata": {},
   "outputs": [
    {
     "name": "stdout",
     "output_type": "stream",
     "text": [
      "Model: \"sequential_13\"\n",
      "_________________________________________________________________\n",
      " Layer (type)                Output Shape              Param #   \n",
      "=================================================================\n",
      " conv2d_64 (Conv2D)          (None, 32, 32, 32)        896       \n",
      "                                                                 \n",
      " batch_normalization_56 (Ba  (None, 32, 32, 32)        128       \n",
      " tchNormalization)                                               \n",
      "                                                                 \n",
      " conv2d_65 (Conv2D)          (None, 32, 32, 32)        9248      \n",
      "                                                                 \n",
      " batch_normalization_57 (Ba  (None, 32, 32, 32)        128       \n",
      " tchNormalization)                                               \n",
      "                                                                 \n",
      " max_pooling2d_34 (MaxPooli  (None, 16, 16, 32)        0         \n",
      " ng2D)                                                           \n",
      "                                                                 \n",
      " dropout_39 (Dropout)        (None, 16, 16, 32)        0         \n",
      "                                                                 \n",
      " conv2d_66 (Conv2D)          (None, 16, 16, 64)        18496     \n",
      "                                                                 \n",
      " batch_normalization_58 (Ba  (None, 16, 16, 64)        256       \n",
      " tchNormalization)                                               \n",
      "                                                                 \n",
      " conv2d_67 (Conv2D)          (None, 16, 16, 64)        36928     \n",
      "                                                                 \n",
      " batch_normalization_59 (Ba  (None, 16, 16, 64)        256       \n",
      " tchNormalization)                                               \n",
      "                                                                 \n",
      " max_pooling2d_35 (MaxPooli  (None, 8, 8, 64)          0         \n",
      " ng2D)                                                           \n",
      "                                                                 \n",
      " dropout_40 (Dropout)        (None, 8, 8, 64)          0         \n",
      "                                                                 \n",
      " conv2d_68 (Conv2D)          (None, 8, 8, 128)         73856     \n",
      "                                                                 \n",
      " batch_normalization_60 (Ba  (None, 8, 8, 128)         512       \n",
      " tchNormalization)                                               \n",
      "                                                                 \n",
      " conv2d_69 (Conv2D)          (None, 8, 8, 128)         147584    \n",
      "                                                                 \n",
      " batch_normalization_61 (Ba  (None, 8, 8, 128)         512       \n",
      " tchNormalization)                                               \n",
      "                                                                 \n",
      " max_pooling2d_36 (MaxPooli  (None, 4, 4, 128)         0         \n",
      " ng2D)                                                           \n",
      "                                                                 \n",
      " dropout_41 (Dropout)        (None, 4, 4, 128)         0         \n",
      "                                                                 \n",
      " flatten_13 (Flatten)        (None, 2048)              0         \n",
      "                                                                 \n",
      " dense_27 (Dense)            (None, 128)               262272    \n",
      "                                                                 \n",
      " batch_normalization_62 (Ba  (None, 128)               512       \n",
      " tchNormalization)                                               \n",
      "                                                                 \n",
      " dropout_42 (Dropout)        (None, 128)               0         \n",
      "                                                                 \n",
      " dense_28 (Dense)            (None, 10)                1290      \n",
      "                                                                 \n",
      "=================================================================\n",
      "Total params: 552874 (2.11 MB)\n",
      "Trainable params: 551722 (2.10 MB)\n",
      "Non-trainable params: 1152 (4.50 KB)\n",
      "_________________________________________________________________\n"
     ]
    }
   ],
   "source": [
    "CNNdb.summary()"
   ]
  },
  {
   "cell_type": "code",
   "execution_count": 194,
   "id": "fedc8820",
   "metadata": {},
   "outputs": [
    {
     "data": {
      "text/plain": [
       "array([3, 8, 8, 0, 6, 6, 1, 6, 3, 1], dtype=uint8)"
      ]
     },
     "execution_count": 194,
     "metadata": {},
     "output_type": "execute_result"
    }
   ],
   "source": [
    "y_test = y_test.reshape(-1,)\n",
    "y_test[:10]"
   ]
  },
  {
   "cell_type": "code",
   "execution_count": 188,
   "id": "5b2e25d2",
   "metadata": {
    "scrolled": true
   },
   "outputs": [
    {
     "data": {
      "image/png": "[encoded data removed]",
      "text/plain": [
       "<Figure size 1080x144 with 1 Axes>"
      ]
     },
     "metadata": {
      "needs_background": "light"
     },
     "output_type": "display_data"
    }
   ],
   "source": [
    "classes = [\"airplane\",\"automobile\",\"bird\",\"cat\",\"deer\",\"dog\",\"frog\",\"horse\",\"ship\",\"truck\"]\n",
    "\n",
    "def plot_sample(X, y, index):\n",
    "    plt.figure(figsize = (15,2))\n",
    "    plt.imshow(X[index])\n",
    "    plt.xlabel(classes[y[index]])\n",
    "\n",
    "\n",
    "\n",
    "plot_sample(x_test,y_test,1)"
   ]
  },
  {
   "cell_type": "code",
   "execution_count": 193,
   "id": "0fd42c7b",
   "metadata": {},
   "outputs": [
    {
     "name": "stdout",
     "output_type": "stream",
     "text": [
      "313/313 [==============================] - 5s 17ms/step\n"
     ]
    },
    {
     "data": {
      "text/plain": [
       "[3, 8, 8, 0, 6, 6, 1, 6, 3, 1]"
      ]
     },
     "execution_count": 193,
     "metadata": {},
     "output_type": "execute_result"
    }
   ],
   "source": [
    "y_pred = CNNdb.predict(x_test)\n",
    "y_classes = [np.argmax(element) for element in y_pred]\n",
    "y_classes[:10]"
   ]
  },
  {
   "cell_type": "code",
   "execution_count": 197,
   "id": "38841d5a",
   "metadata": {
    "scrolled": true
   },
   "outputs": [
    {
     "data": {
      "image/png": "[encoded data removed]",
      "text/plain": [
       "<Figure size 1080x144 with 1 Axes>"
      ]
     },
     "metadata": {
      "needs_background": "light"
     },
     "output_type": "display_data"
    }
   ],
   "source": [
    "plot_sample(x_test, y_test, 2017)"
   ]
  },
  {
   "cell_type": "code",
   "execution_count": 198,
   "id": "8679d27c",
   "metadata": {},
   "outputs": [
    {
     "data": {
      "text/plain": [
       "'bird'"
      ]
     },
     "execution_count": 198,
     "metadata": {},
     "output_type": "execute_result"
    }
   ],
   "source": [
    "classes[y_classes[2017]]"
   ]
  },
  {
   "cell_type": "code",
   "execution_count": 225,
   "id": "19700a6b",
   "metadata": {
    "scrolled": true
   },
   "outputs": [],
   "source": [
    "def plot_image(i, predictions_array, true_label, img):\n",
    "    predictions_array, true_label, img = predictions_array, true_label[i], img[i]\n",
    "    plt.grid(False)\n",
    "    plt.xticks([])\n",
    "    plt.yticks([])\n",
    "\n",
    "    plt.imshow(img, cmap=plt.cm.binary)\n",
    "\n",
    "    predicted_label = np.argmax(predictions_array)\n",
    "    if predicted_label == true_label:\n",
    "        color = 'blue'\n",
    "    else:\n",
    "        color = 'red'\n",
    "\n",
    "    plt.xlabel(\"{} {:2.0f}% ({})\".format(class_names[predicted_label],\n",
    "                                100*np.max(predictions_array),\n",
    "                                class_names[true_label[0]]),\n",
    "                                color=color)\n",
    "\n",
    "def plot_value_array(i, predictions_array, true_label):\n",
    "    predictions_array, true_label = predictions_array, true_label[i]\n",
    "    plt.grid(False)\n",
    "    plt.xticks(range(10))\n",
    "    plt.yticks([])\n",
    "    thisplot = plt.bar(range(10), predictions_array, color=\"#777777\")\n",
    "    plt.ylim([0, 1])\n",
    "    predicted_label = np.argmax(predictions_array)\n",
    "\n",
    "    thisplot[predicted_label].set_color('red')\n",
    "    thisplot[true_label[0]].set_color('blue')\n"
   ]
  },
  {
   "cell_type": "code",
   "execution_count": 221,
   "id": "fcb2b179",
   "metadata": {},
   "outputs": [
    {
     "name": "stdout",
     "output_type": "stream",
     "text": [
      "313/313 [==============================] - 5s 16ms/step\n"
     ]
    }
   ],
   "source": [
    "predictions = CNNdb.predict(x_test)"
   ]
  },
  {
   "cell_type": "code",
   "execution_count": 223,
   "id": "0409c929",
   "metadata": {},
   "outputs": [],
   "source": [
    "class_names = ['airplane', 'automobile', 'bird', 'cat', 'deer',\n",
    "               'dog', 'frog', 'horse', 'ship', 'truck']\n"
   ]
  },
  {
   "cell_type": "code",
   "execution_count": 226,
   "id": "2ddeae4e",
   "metadata": {
    "scrolled": true
   },
   "outputs": [
    {
     "ename": "IndexError",
     "evalue": "invalid index to scalar variable.",
     "output_type": "error",
     "traceback": [
      "\u001b[1;31m---------------------------------------------------------------------------\u001b[0m",
      "\u001b[1;31mIndexError\u001b[0m                                Traceback (most recent call last)",
      "Input \u001b[1;32mIn [226]\u001b[0m, in \u001b[0;36m<cell line: 7>\u001b[1;34m()\u001b[0m\n\u001b[0;32m      7\u001b[0m \u001b[38;5;28;01mfor\u001b[39;00m i \u001b[38;5;129;01min\u001b[39;00m \u001b[38;5;28mrange\u001b[39m(num_images):\n\u001b[0;32m      8\u001b[0m     plt\u001b[38;5;241m.\u001b[39msubplot(num_rows, \u001b[38;5;241m2\u001b[39m\u001b[38;5;241m*\u001b[39mnum_cols, \u001b[38;5;241m2\u001b[39m\u001b[38;5;241m*\u001b[39mi\u001b[38;5;241m+\u001b[39m\u001b[38;5;241m1\u001b[39m)\n\u001b[1;32m----> 9\u001b[0m     \u001b[43mplot_image\u001b[49m\u001b[43m(\u001b[49m\u001b[43mi\u001b[49m\u001b[43m,\u001b[49m\u001b[43m \u001b[49m\u001b[43mpredictions\u001b[49m\u001b[43m[\u001b[49m\u001b[43mi\u001b[49m\u001b[43m]\u001b[49m\u001b[43m,\u001b[49m\u001b[43m \u001b[49m\u001b[43my_test\u001b[49m\u001b[43m,\u001b[49m\u001b[43m \u001b[49m\u001b[43mx_test\u001b[49m\u001b[43m)\u001b[49m\n\u001b[0;32m     10\u001b[0m     plt\u001b[38;5;241m.\u001b[39msubplot(num_rows, \u001b[38;5;241m2\u001b[39m\u001b[38;5;241m*\u001b[39mnum_cols, \u001b[38;5;241m2\u001b[39m\u001b[38;5;241m*\u001b[39mi\u001b[38;5;241m+\u001b[39m\u001b[38;5;241m2\u001b[39m)\n\u001b[0;32m     11\u001b[0m     plot_value_array(i, predictions[i], y_test)\n",
      "Input \u001b[1;32mIn [225]\u001b[0m, in \u001b[0;36mplot_image\u001b[1;34m(i, predictions_array, true_label, img)\u001b[0m\n\u001b[0;32m     12\u001b[0m \u001b[38;5;28;01melse\u001b[39;00m:\n\u001b[0;32m     13\u001b[0m     color \u001b[38;5;241m=\u001b[39m \u001b[38;5;124m'\u001b[39m\u001b[38;5;124mred\u001b[39m\u001b[38;5;124m'\u001b[39m\n\u001b[0;32m     15\u001b[0m plt\u001b[38;5;241m.\u001b[39mxlabel(\u001b[38;5;124m\"\u001b[39m\u001b[38;5;132;01m{}\u001b[39;00m\u001b[38;5;124m \u001b[39m\u001b[38;5;132;01m{:2.0f}\u001b[39;00m\u001b[38;5;124m%\u001b[39m\u001b[38;5;124m (\u001b[39m\u001b[38;5;132;01m{}\u001b[39;00m\u001b[38;5;124m)\u001b[39m\u001b[38;5;124m\"\u001b[39m\u001b[38;5;241m.\u001b[39mformat(class_names[predicted_label],\n\u001b[0;32m     16\u001b[0m                             \u001b[38;5;241m100\u001b[39m\u001b[38;5;241m*\u001b[39mnp\u001b[38;5;241m.\u001b[39mmax(predictions_array),\n\u001b[1;32m---> 17\u001b[0m                             class_names[\u001b[43mtrue_label\u001b[49m\u001b[43m[\u001b[49m\u001b[38;5;241;43m0\u001b[39;49m\u001b[43m]\u001b[49m]),\n\u001b[0;32m     18\u001b[0m                             color\u001b[38;5;241m=\u001b[39mcolor)\n",
      "\u001b[1;31mIndexError\u001b[0m: invalid index to scalar variable."
     ]
    },
    {
     "data": {
      "image/png": "[encoded data removed]",
      "text/plain": [
       "<Figure size 864x720 with 1 Axes>"
      ]
     },
     "metadata": {},
     "output_type": "display_data"
    }
   ],
   "source": [
    "# Display some of the test images, their predicted labels, and the true labels.\n",
    "# Correct predictions are in blue and incorrect predictions are in red.\n",
    "num_rows = 5\n",
    "num_cols = 3\n",
    "num_images = num_rows*num_cols\n",
    "plt.figure(figsize=(2*2*num_cols, 2*num_rows))\n",
    "for i in range(num_images):\n",
    "    plt.subplot(num_rows, 2*num_cols, 2*i+1)\n",
    "    plot_image(i, predictions[i], y_test, x_test)\n",
    "    plt.subplot(num_rows, 2*num_cols, 2*i+2)\n",
    "    plot_value_array(i, predictions[i], y_test)\n",
    "plt.tight_layout()\n",
    "plt.show()"
   ]
  },
  {
   "cell_type": "code",
   "execution_count": 227,
   "id": "972bfd65",
   "metadata": {},
   "outputs": [
    {
     "name": "stdout",
     "output_type": "stream",
     "text": [
      "313/313 [==============================] - 5s 15ms/step\n",
      "              precision    recall  f1-score   support\n",
      "\n",
      "           0       0.87      0.81      0.84      1000\n",
      "           1       0.81      0.97      0.88      1000\n",
      "           2       0.73      0.79      0.76      1000\n",
      "           3       0.79      0.57      0.66      1000\n",
      "           4       0.83      0.81      0.82      1000\n",
      "           5       0.88      0.59      0.71      1000\n",
      "           6       0.70      0.94      0.80      1000\n",
      "           7       0.85      0.88      0.86      1000\n",
      "           8       0.91      0.87      0.89      1000\n",
      "           9       0.84      0.91      0.87      1000\n",
      "\n",
      "    accuracy                           0.81     10000\n",
      "   macro avg       0.82      0.81      0.81     10000\n",
      "weighted avg       0.82      0.81      0.81     10000\n",
      "\n"
     ]
    }
   ],
   "source": [
    "from sklearn.metrics import confusion_matrix, classification_report\n",
    "import numpy as np\n",
    "y_pred = CNNdb.predict(x_test)\n",
    "y_pred_classes = [np.argmax(element) for element in y_pred]\n",
    "\n",
    "print(classification_report(y_test,y_pred_classes))"
   ]
  },
  {
   "cell_type": "code",
   "execution_count": null,
   "id": "13e44d95",
   "metadata": {},
   "outputs": [],
   "source": []
  }
 ],
 "metadata": {
  "kernelspec": {
   "display_name": "Python 3 (ipykernel)",
   "language": "python",
   "name": "python3"
  },
  "language_info": {
   "codemirror_mode": {
    "name": "ipython",
    "version": 3
   },
   "file_extension": ".py",
   "mimetype": "text/x-python",
   "name": "python",
   "nbconvert_exporter": "python",
   "pygments_lexer": "ipython3",
   "version": "3.10.5"
  }
 },
 "nbformat": 4,
 "nbformat_minor": 5
}
